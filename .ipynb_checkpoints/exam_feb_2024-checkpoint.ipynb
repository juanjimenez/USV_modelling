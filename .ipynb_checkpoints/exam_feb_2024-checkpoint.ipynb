{
 "cells": [
  {
   "cell_type": "code",
   "execution_count": 19,
   "id": "6d41b35b-ddb3-4d8d-819e-80851cc22759",
   "metadata": {},
   "outputs": [],
   "source": [
    "import sympy as sp\n",
    "import numpy as np\n",
    "import matplotlib.pyplot as pl\n",
    "x1,x2 = sp.symbols('x1 x2',real = True)\n",
    "f =sp.Array([[1/x2-x1**2],[x1/x2-1]])\n"
   ]
  },
  {
   "cell_type": "raw",
   "id": "7c73b0e0-e275-49f6-a2ce-52081a8f91ff",
   "metadata": {},
   "source": [
    "Vemos como nos queda"
   ]
  },
  {
   "cell_type": "code",
   "execution_count": 20,
   "id": "6ed31b3a-9e9a-4022-a4a7-a590b653c31e",
   "metadata": {},
   "outputs": [
    {
     "data": {
      "text/latex": [
       "$\\displaystyle \\left[\\begin{matrix}- x_{1}^{2} + \\frac{1}{x_{2}}\\\\\\frac{x_{1}}{x_{2}} - 1\\end{matrix}\\right]$"
      ],
      "text/plain": [
       "[[-x1**2 + 1/x2], [x1/x2 - 1]]"
      ]
     },
     "execution_count": 20,
     "metadata": {},
     "output_type": "execute_result"
    }
   ],
   "source": [
    "f"
   ]
  },
  {
   "cell_type": "code",
   "execution_count": 21,
   "id": "02386b26-a835-49d6-b51d-ab68941928a0",
   "metadata": {},
   "outputs": [
    {
     "data": {
      "text/plain": [
       "[(1, 1)]"
      ]
     },
     "execution_count": 21,
     "metadata": {},
     "output_type": "execute_result"
    }
   ],
   "source": [
    "rrots = sp.solve(f.tomatrix(),x1,x2)\n",
    "rrots"
   ]
  },
  {
   "cell_type": "markdown",
   "id": "0e212acb-8129-4bad-92c5-25defd53a233",
   "metadata": {},
   "source": [
    "Solo tenemos un punto de equilibrio en $(1,1)$"
   ]
  },
  {
   "cell_type": "code",
   "execution_count": 22,
   "id": "08709fac-3e24-4a8c-831a-c8c168c02ebf",
   "metadata": {},
   "outputs": [
    {
     "data": {
      "text/latex": [
       "$\\displaystyle \\left[\\begin{matrix}- x_{1}^{3} + x_{1}^{2} + x_{1} - x_{2} + 1 - \\frac{1}{x_{2}}\\end{matrix}\\right]$"
      ],
      "text/plain": [
       "Matrix([[-x1**3 + x1**2 + x1 - x2 + 1 - 1/x2]])"
      ]
     },
     "execution_count": 22,
     "metadata": {},
     "output_type": "execute_result"
    }
   ],
   "source": [
    "\n",
    "J = f.tomatrix().jacobian([x1,x2])\n",
    "V = (x1-1)**2/2 + (x2-1)**2/2\n",
    "V\n",
    "Vdx1 =sp.diff(V,x1)\n",
    "Vdx2 =sp.diff(V,x2)\n",
    "grV = sp.Array([[Vdx1],[Vdx2]])\n",
    "Vdot = grV.tomatrix().T*f.tomatrix()\n",
    "sp.simplify(Vdot)"
   ]
  },
  {
   "cell_type": "markdown",
   "id": "ec801f59-f7b2-4dc5-90b2-f12de1551b18",
   "metadata": {},
   "source": []
  },
  {
   "cell_type": "markdown",
   "id": "c3e9c81b-8700-46c1-876d-e289a3ef3be5",
   "metadata": {},
   "source": [
    "Las dos variables están separadas en la derivada, por tanto podemos estudiar cada una por su cuenta en el intervalo de validez $[x_1,x_2] \\in \\mathbb{R}^2_+$"
   ]
  },
  {
   "cell_type": "code",
   "execution_count": null,
   "id": "9008d0e6-0cb5-43d1-beec-d16bd613e3e4",
   "metadata": {},
   "outputs": [],
   "source": [
    "x1n = np.arange(0,2,0.01)\n",
    "x2n = np.arange(0.5,2,0.01)\n",
    "dotVx1 = -x1n**3+x1n**2+x1n\n",
    "dotVx2 = -x2n +1 -1/x2n\n",
    "pl.plot(x1n,dotVx1"
   ]
  }
 ],
 "metadata": {
  "kernelspec": {
   "display_name": "Python 3 (Spyder)",
   "language": "python3",
   "name": "python3"
  },
  "language_info": {
   "codemirror_mode": {
    "name": "ipython",
    "version": 3
   },
   "file_extension": ".py",
   "mimetype": "text/x-python",
   "name": "python",
   "nbconvert_exporter": "python",
   "pygments_lexer": "ipython3",
   "version": "3.11.5"
  }
 },
 "nbformat": 4,
 "nbformat_minor": 5
}
